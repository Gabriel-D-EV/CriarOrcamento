{
 "cells": [
  {
   "cell_type": "markdown",
   "metadata": {},
   "source": [
    "sistemas de Orçamentos\n"
   ]
  },
  {
   "cell_type": "code",
   "execution_count": 19,
   "metadata": {},
   "outputs": [
    {
     "name": "stdout",
     "output_type": "stream",
     "text": [
      "O orçamento ficou em R$37500.00\n"
     ]
    }
   ],
   "source": [
    "\n",
    "\n",
    "projeto = str(input('Projeto: '))\n",
    "h_prev = int(input('Horas previstas: '))\n",
    "v_h = float(input('Valor da hora: R$'))\n",
    "p = str(input('Prazo de entrega: '))\n",
    "totv = float(h_prev * v_h)\n",
    "\n",
    "print(f'O orçamento ficou em R${totv:.2f}')\n"
   ]
  },
  {
   "cell_type": "code",
   "execution_count": 26,
   "metadata": {},
   "outputs": [
    {
     "name": "stdout",
     "output_type": "stream",
     "text": [
      "Orçamento gerado com sucesso!\n"
     ]
    }
   ],
   "source": [
    "from fpdf import FPDF\n",
    "\n",
    "pdf = FPDF()\n",
    "pdf.add_page()\n",
    "pdf.set_font('Arial')\n",
    "pdf.image('templatedon.png', x=0, y=0)\n",
    "\n",
    "pdf.text(115, 145, projeto)\n",
    "pdf.text(115, 160, f'{h_prev}h')\n",
    "pdf.text(115, 175, f'{v_h:.2f}')\n",
    "pdf.text(115, 190, p)\n",
    "pdf.text(120, 205, f'{totv:.2f}')\n",
    "\n",
    "pdf.output('Orçamento.pdf')\n",
    "print('Orçamento gerado com sucesso!')\n",
    "\n"
   ]
  }
 ],
 "metadata": {
  "kernelspec": {
   "display_name": "Python 3",
   "language": "python",
   "name": "python3"
  },
  "language_info": {
   "codemirror_mode": {
    "name": "ipython",
    "version": 3
   },
   "file_extension": ".py",
   "mimetype": "text/x-python",
   "name": "python",
   "nbconvert_exporter": "python",
   "pygments_lexer": "ipython3",
   "version": "3.11.4"
  },
  "orig_nbformat": 4
 },
 "nbformat": 4,
 "nbformat_minor": 2
}
